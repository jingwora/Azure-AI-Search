{
 "cells": [
  {
   "attachments": {},
   "cell_type": "markdown",
   "metadata": {},
   "source": [
    "## Semantic ranking using the azure.search.documents library in the Azure SDK for Python"
   ]
  },
  {
   "cell_type": "markdown",
   "metadata": {},
   "source": [
    "https://learn.microsoft.com/en-us/azure/search/search-get-started-semantic?tabs=python"
   ]
  },
  {
   "attachments": {},
   "cell_type": "markdown",
   "metadata": {},
   "source": [
    "This notebook demonstrates a semantic configuration in a search index and the semanti query syntax for reranking search results."
   ]
  },
  {
   "cell_type": "markdown",
   "metadata": {},
   "source": [
    "1. Create Index\n",
    "2. Add document\n",
    "3. Search"
   ]
  },
  {
   "cell_type": "markdown",
   "metadata": {},
   "source": [
    "## Install packages and set variables"
   ]
  },
  {
   "cell_type": "code",
   "execution_count": 1,
   "metadata": {},
   "outputs": [],
   "source": [
    "# ! pip install azure-search-documents==11.6.0b1 --quiet\n",
    "# ! pip install azure-identity --quiet\n",
    "# ! pip install python-dotenv --quiet"
   ]
  },
  {
   "cell_type": "code",
   "execution_count": 1,
   "metadata": {},
   "outputs": [
    {
     "data": {
      "text/plain": [
       "'https://ava-wora-ais-001.search.windows.net'"
      ]
     },
     "execution_count": 1,
     "metadata": {},
     "output_type": "execute_result"
    }
   ],
   "source": [
    "import os\n",
    "\n",
    "# Provide variables\n",
    "search_endpoint: str = os.environ[\"AZURE_SEARCH_SERVICE_ENDPOINT\"]\n",
    "search_api_key: str = os.environ[\"AZURE_SEARCH_API_KEY\"]\n",
    "index_name: str = \"hotels-quickstart\"\n",
    "\n",
    "search_endpoint"
   ]
  },
  {
   "attachments": {},
   "cell_type": "markdown",
   "metadata": {},
   "source": [
    "## Create an index"
   ]
  },
  {
   "cell_type": "code",
   "execution_count": 2,
   "metadata": {},
   "outputs": [
    {
     "name": "stdout",
     "output_type": "stream",
     "text": [
      " hotels-quickstart created\n"
     ]
    }
   ],
   "source": [
    "from azure.core.credentials import AzureKeyCredential\n",
    "\n",
    "credential = AzureKeyCredential(search_api_key)\n",
    "\n",
    "from azure.search.documents.indexes import SearchIndexClient\n",
    "from azure.search.documents import SearchClient\n",
    "from azure.search.documents.indexes.models import (\n",
    "    ComplexField,\n",
    "    SimpleField,\n",
    "    SearchFieldDataType,\n",
    "    SearchableField,\n",
    "    SearchIndex,\n",
    "    SemanticConfiguration,\n",
    "    SemanticField,\n",
    "    SemanticPrioritizedFields,\n",
    "    SemanticSearch\n",
    ")\n",
    "\n",
    "# Create a search schema\n",
    "index_client = SearchIndexClient(endpoint=search_endpoint, credential=credential)\n",
    "\n",
    "fields = [\n",
    "        SimpleField(name=\"HotelId\", type=SearchFieldDataType.String, key=True),\n",
    "        SearchableField(name=\"HotelName\", type=SearchFieldDataType.String, sortable=True),\n",
    "        SearchableField(name=\"Description\", type=SearchFieldDataType.String, analyzer_name=\"en.lucene\"),\n",
    "        SearchableField(name=\"Description_fr\", type=SearchFieldDataType.String, analyzer_name=\"fr.lucene\"),\n",
    "        SearchableField(name=\"Category\", type=SearchFieldDataType.String, facetable=True, filterable=True, sortable=True),\n",
    "        SearchableField(name=\"Tags\", collection=True, type=SearchFieldDataType.String, facetable=True, filterable=True),\n",
    "        \n",
    "        SimpleField(name=\"ParkingIncluded\", type=SearchFieldDataType.Boolean, facetable=True, filterable=True, sortable=True),\n",
    "        SimpleField(name=\"LastRenovationDate\", type=SearchFieldDataType.DateTimeOffset, facetable=True, filterable=True, sortable=True),\n",
    "        SimpleField(name=\"Rating\", type=SearchFieldDataType.Double, facetable=True, filterable=True, sortable=True),\n",
    "\n",
    "        ComplexField(name=\"Address\", fields=[\n",
    "            SearchableField(name=\"StreetAddress\", type=SearchFieldDataType.String),\n",
    "            SearchableField(name=\"City\", type=SearchFieldDataType.String, facetable=True, filterable=True, sortable=True),\n",
    "            SearchableField(name=\"StateProvince\", type=SearchFieldDataType.String, facetable=True, filterable=True, sortable=True),\n",
    "            SearchableField(name=\"PostalCode\", type=SearchFieldDataType.String, facetable=True, filterable=True, sortable=True),\n",
    "            SearchableField(name=\"Country\", type=SearchFieldDataType.String, facetable=True, filterable=True, sortable=True),\n",
    "        ])\n",
    "    ]\n",
    "\n",
    "semantic_config = SemanticConfiguration(\n",
    "    name=\"my-semantic-config\",\n",
    "    prioritized_fields=SemanticPrioritizedFields(\n",
    "        title_field=SemanticField(field_name=\"HotelName\"),\n",
    "        keywords_fields=[SemanticField(field_name=\"Category\")],\n",
    "        content_fields=[SemanticField(field_name=\"Description\")]\n",
    "    )\n",
    ")\n",
    "\n",
    "# Create the semantic settings with the configuration\n",
    "semantic_search = SemanticSearch(configurations=[semantic_config])\n",
    "\n",
    "semantic_settings = SemanticSearch(configurations=[semantic_config])\n",
    "scoring_profiles = []\n",
    "suggester = [{'name': 'sg', 'source_fields': ['Tags', 'Address/City', 'Address/Country']}]\n",
    "\n",
    "# Create the search index with the semantic settings\n",
    "index = SearchIndex(name=index_name, fields=fields, suggesters=suggester, scoring_profiles=scoring_profiles, semantic_search=semantic_search)\n",
    "result = index_client.create_or_update_index(index)\n",
    "print(f' {result.name} created')"
   ]
  },
  {
   "cell_type": "code",
   "execution_count": 14,
   "metadata": {},
   "outputs": [
    {
     "data": {
      "text/plain": [
       "<azure.search.documents.indexes.models._index.SearchIndex at 0x26e472c18d0>"
      ]
     },
     "execution_count": 14,
     "metadata": {},
     "output_type": "execute_result"
    }
   ],
   "source": [
    "index_client.get_index(name=index_name)"
   ]
  },
  {
   "cell_type": "code",
   "execution_count": 25,
   "metadata": {},
   "outputs": [],
   "source": [
    "# index_client functions\n",
    "# 'analyze_text', 'close', \n",
    "# 'create_alias', 'create_index', 'create_or_update_alias', 'create_or_update_index', 'create_or_update_synonym_map', 'create_synonym_map', \n",
    "# 'delete_alias', 'delete_index', 'delete_synonym_map', \n",
    "# 'get_alias', 'get_index', 'get_index_statistics', 'get_search_client', 'get_service_statistics', 'get_synonym_map', 'get_synonym_map_names', 'get_synonym_maps', \n",
    "# 'list_alias_names', 'list_aliases', 'list_index_names', 'list_indexes', 'send_request'"
   ]
  },
  {
   "cell_type": "code",
   "execution_count": 27,
   "metadata": {},
   "outputs": [
    {
     "data": {
      "text/plain": [
       "<iterator object azure.core.paging.ItemPaged at 0x26e4732bb50>"
      ]
     },
     "execution_count": 27,
     "metadata": {},
     "output_type": "execute_result"
    }
   ],
   "source": [
    "index_client.list_aliases()"
   ]
  },
  {
   "cell_type": "code",
   "execution_count": 19,
   "metadata": {},
   "outputs": [
    {
     "data": {
      "text/plain": [
       "<iterator object azure.core.paging.ItemPaged at 0x26e463118d0>"
      ]
     },
     "execution_count": 19,
     "metadata": {},
     "output_type": "execute_result"
    }
   ],
   "source": [
    "index_client.list_index_names()"
   ]
  },
  {
   "attachments": {},
   "cell_type": "markdown",
   "metadata": {},
   "source": [
    "## Add a documents payload"
   ]
  },
  {
   "cell_type": "code",
   "execution_count": 3,
   "metadata": {},
   "outputs": [],
   "source": [
    "# Create a documents payload\n",
    "documents = [\n",
    "    {\n",
    "    \"@search.action\": \"upload\",\n",
    "    \"HotelId\": \"1\",\n",
    "    \"HotelName\": \"Secret Point Motel\",\n",
    "    \"Description\": \"The hotel is ideally located on the main commercial artery of the city in the heart of New York. A few minutes away is Time's Square and the historic centre of the city, as well as other places of interest that make New York one of America's most attractive and cosmopolitan cities.\",\n",
    "    \"Description_fr\": \"L'hôtel est idéalement situé sur la principale artère commerciale de la ville en plein cœur de New York. A quelques minutes se trouve la place du temps et le centre historique de la ville, ainsi que d'autres lieux d'intérêt qui font de New York l'une des villes les plus attractives et cosmopolites de l'Amérique.\",\n",
    "    \"Category\": \"Boutique\",\n",
    "    \"Tags\": [ \"pool\", \"air conditioning\", \"concierge\" ],\n",
    "    \"ParkingIncluded\": \"false\",\n",
    "    \"LastRenovationDate\": \"1970-01-18T00:00:00Z\",\n",
    "    \"Rating\": 3.60,\n",
    "    \"Address\": {\n",
    "        \"StreetAddress\": \"677 5th Ave\",\n",
    "        \"City\": \"New York\",\n",
    "        \"StateProvince\": \"NY\",\n",
    "        \"PostalCode\": \"10022\",\n",
    "        \"Country\": \"USA\"\n",
    "        }\n",
    "    },\n",
    "    {\n",
    "    \"@search.action\": \"upload\",\n",
    "    \"HotelId\": \"2\",\n",
    "    \"HotelName\": \"Twin Dome Motel\",\n",
    "    \"Description\": \"The hotel is situated in a  nineteenth century plaza, which has been expanded and renovated to the highest architectural standards to create a modern, functional and first-class hotel in which art and unique historical elements coexist with the most modern comforts.\",\n",
    "    \"Description_fr\": \"L'hôtel est situé dans une place du XIXe siècle, qui a été agrandie et rénovée aux plus hautes normes architecturales pour créer un hôtel moderne, fonctionnel et de première classe dans lequel l'art et les éléments historiques uniques coexistent avec le confort le plus moderne.\",\n",
    "    \"Category\": \"Boutique\",\n",
    "    \"Tags\": [ \"pool\", \"free wifi\", \"concierge\" ],\n",
    "    \"ParkingIncluded\": \"false\",\n",
    "    \"LastRenovationDate\": \"1979-02-18T00:00:00Z\",\n",
    "    \"Rating\": 3.60,\n",
    "    \"Address\": {\n",
    "        \"StreetAddress\": \"140 University Town Center Dr\",\n",
    "        \"City\": \"Sarasota\",\n",
    "        \"StateProvince\": \"FL\",\n",
    "        \"PostalCode\": \"34243\",\n",
    "        \"Country\": \"USA\"\n",
    "        }\n",
    "    },\n",
    "    {\n",
    "    \"@search.action\": \"upload\",\n",
    "    \"HotelId\": \"3\",\n",
    "    \"HotelName\": \"Triple Landscape Hotel\",\n",
    "    \"Description\": \"The Hotel stands out for its gastronomic excellence under the management of William Dough, who advises on and oversees all of the Hotel's restaurant services.\",\n",
    "    \"Description_fr\": \"L'hôtel est situé dans une place du XIXe siècle, qui a été agrandie et rénovée aux plus hautes normes architecturales pour créer un hôtel moderne, fonctionnel et de première classe dans lequel l'art et les éléments historiques uniques coexistent avec le confort le plus moderne.\",\n",
    "    \"Category\": \"Resort and Spa\",\n",
    "    \"Tags\": [ \"air conditioning\", \"bar\", \"continental breakfast\" ],\n",
    "    \"ParkingIncluded\": \"true\",\n",
    "    \"LastRenovationDate\": \"2015-09-20T00:00:00Z\",\n",
    "    \"Rating\": 4.80,\n",
    "    \"Address\": {\n",
    "        \"StreetAddress\": \"3393 Peachtree Rd\",\n",
    "        \"City\": \"Atlanta\",\n",
    "        \"StateProvince\": \"GA\",\n",
    "        \"PostalCode\": \"30326\",\n",
    "        \"Country\": \"USA\"\n",
    "        }\n",
    "    },\n",
    "    {\n",
    "    \"@search.action\": \"upload\",\n",
    "    \"HotelId\": \"4\",\n",
    "    \"HotelName\": \"Sublime Cliff Hotel\",\n",
    "    \"Description\": \"Sublime Cliff Hotel is located in the heart of the historic center of Sublime in an extremely vibrant and lively area within short walking distance to the sites and landmarks of the city and is surrounded by the extraordinary beauty of churches, buildings, shops and monuments. Sublime Cliff is part of a lovingly restored 1800 palace.\",\n",
    "    \"Description_fr\": \"Le sublime Cliff Hotel est situé au coeur du centre historique de sublime dans un quartier extrêmement animé et vivant, à courte distance de marche des sites et monuments de la ville et est entouré par l'extraordinaire beauté des églises, des bâtiments, des commerces et Monuments. Sublime Cliff fait partie d'un Palace 1800 restauré avec amour.\",\n",
    "    \"Category\": \"Boutique\",\n",
    "    \"Tags\": [ \"concierge\", \"view\", \"24-hour front desk service\" ],\n",
    "    \"ParkingIncluded\": \"true\",\n",
    "    \"LastRenovationDate\": \"1960-02-06T00:00:00Z\",\n",
    "    \"Rating\": 4.60,\n",
    "    \"Address\": {\n",
    "        \"StreetAddress\": \"7400 San Pedro Ave\",\n",
    "        \"City\": \"San Antonio\",\n",
    "        \"StateProvince\": \"TX\",\n",
    "        \"PostalCode\": \"78216\",\n",
    "        \"Country\": \"USA\"\n",
    "        }\n",
    "    }\n",
    "]"
   ]
  },
  {
   "cell_type": "code",
   "execution_count": 53,
   "metadata": {},
   "outputs": [
    {
     "data": {
      "text/html": [
       "<div>\n",
       "<style scoped>\n",
       "    .dataframe tbody tr th:only-of-type {\n",
       "        vertical-align: middle;\n",
       "    }\n",
       "\n",
       "    .dataframe tbody tr th {\n",
       "        vertical-align: top;\n",
       "    }\n",
       "\n",
       "    .dataframe thead th {\n",
       "        text-align: right;\n",
       "    }\n",
       "</style>\n",
       "<table border=\"1\" class=\"dataframe\">\n",
       "  <thead>\n",
       "    <tr style=\"text-align: right;\">\n",
       "      <th></th>\n",
       "      <th>@search.action</th>\n",
       "      <th>HotelId</th>\n",
       "      <th>HotelName</th>\n",
       "      <th>Description</th>\n",
       "      <th>Description_fr</th>\n",
       "      <th>Category</th>\n",
       "      <th>Tags</th>\n",
       "      <th>ParkingIncluded</th>\n",
       "      <th>LastRenovationDate</th>\n",
       "      <th>Rating</th>\n",
       "      <th>Address.StreetAddress</th>\n",
       "      <th>Address.City</th>\n",
       "      <th>Address.StateProvince</th>\n",
       "      <th>Address.PostalCode</th>\n",
       "      <th>Address.Country</th>\n",
       "    </tr>\n",
       "  </thead>\n",
       "  <tbody>\n",
       "    <tr>\n",
       "      <th>0</th>\n",
       "      <td>upload</td>\n",
       "      <td>1</td>\n",
       "      <td>Secret Point Motel</td>\n",
       "      <td>The hotel is ideally located on the main comme...</td>\n",
       "      <td>L'hôtel est idéalement situé sur la principale...</td>\n",
       "      <td>Boutique</td>\n",
       "      <td>[pool, air conditioning, concierge]</td>\n",
       "      <td>false</td>\n",
       "      <td>1970-01-18T00:00:00Z</td>\n",
       "      <td>3.6</td>\n",
       "      <td>677 5th Ave</td>\n",
       "      <td>New York</td>\n",
       "      <td>NY</td>\n",
       "      <td>10022</td>\n",
       "      <td>USA</td>\n",
       "    </tr>\n",
       "    <tr>\n",
       "      <th>1</th>\n",
       "      <td>upload</td>\n",
       "      <td>2</td>\n",
       "      <td>Twin Dome Motel</td>\n",
       "      <td>The hotel is situated in a  nineteenth century...</td>\n",
       "      <td>L'hôtel est situé dans une place du XIXe siècl...</td>\n",
       "      <td>Boutique</td>\n",
       "      <td>[pool, free wifi, concierge]</td>\n",
       "      <td>false</td>\n",
       "      <td>1979-02-18T00:00:00Z</td>\n",
       "      <td>3.6</td>\n",
       "      <td>140 University Town Center Dr</td>\n",
       "      <td>Sarasota</td>\n",
       "      <td>FL</td>\n",
       "      <td>34243</td>\n",
       "      <td>USA</td>\n",
       "    </tr>\n",
       "    <tr>\n",
       "      <th>2</th>\n",
       "      <td>upload</td>\n",
       "      <td>3</td>\n",
       "      <td>Triple Landscape Hotel</td>\n",
       "      <td>The Hotel stands out for its gastronomic excel...</td>\n",
       "      <td>L'hôtel est situé dans une place du XIXe siècl...</td>\n",
       "      <td>Resort and Spa</td>\n",
       "      <td>[air conditioning, bar, continental breakfast]</td>\n",
       "      <td>true</td>\n",
       "      <td>2015-09-20T00:00:00Z</td>\n",
       "      <td>4.8</td>\n",
       "      <td>3393 Peachtree Rd</td>\n",
       "      <td>Atlanta</td>\n",
       "      <td>GA</td>\n",
       "      <td>30326</td>\n",
       "      <td>USA</td>\n",
       "    </tr>\n",
       "    <tr>\n",
       "      <th>3</th>\n",
       "      <td>upload</td>\n",
       "      <td>4</td>\n",
       "      <td>Sublime Cliff Hotel</td>\n",
       "      <td>Sublime Cliff Hotel is located in the heart of...</td>\n",
       "      <td>Le sublime Cliff Hotel est situé au coeur du c...</td>\n",
       "      <td>Boutique</td>\n",
       "      <td>[concierge, view, 24-hour front desk service]</td>\n",
       "      <td>true</td>\n",
       "      <td>1960-02-06T00:00:00Z</td>\n",
       "      <td>4.6</td>\n",
       "      <td>7400 San Pedro Ave</td>\n",
       "      <td>San Antonio</td>\n",
       "      <td>TX</td>\n",
       "      <td>78216</td>\n",
       "      <td>USA</td>\n",
       "    </tr>\n",
       "  </tbody>\n",
       "</table>\n",
       "</div>"
      ],
      "text/plain": [
       "  @search.action HotelId               HotelName  \\\n",
       "0         upload       1      Secret Point Motel   \n",
       "1         upload       2         Twin Dome Motel   \n",
       "2         upload       3  Triple Landscape Hotel   \n",
       "3         upload       4     Sublime Cliff Hotel   \n",
       "\n",
       "                                         Description  \\\n",
       "0  The hotel is ideally located on the main comme...   \n",
       "1  The hotel is situated in a  nineteenth century...   \n",
       "2  The Hotel stands out for its gastronomic excel...   \n",
       "3  Sublime Cliff Hotel is located in the heart of...   \n",
       "\n",
       "                                      Description_fr        Category  \\\n",
       "0  L'hôtel est idéalement situé sur la principale...        Boutique   \n",
       "1  L'hôtel est situé dans une place du XIXe siècl...        Boutique   \n",
       "2  L'hôtel est situé dans une place du XIXe siècl...  Resort and Spa   \n",
       "3  Le sublime Cliff Hotel est situé au coeur du c...        Boutique   \n",
       "\n",
       "                                             Tags ParkingIncluded  \\\n",
       "0             [pool, air conditioning, concierge]           false   \n",
       "1                    [pool, free wifi, concierge]           false   \n",
       "2  [air conditioning, bar, continental breakfast]            true   \n",
       "3   [concierge, view, 24-hour front desk service]            true   \n",
       "\n",
       "     LastRenovationDate  Rating          Address.StreetAddress Address.City  \\\n",
       "0  1970-01-18T00:00:00Z     3.6                    677 5th Ave     New York   \n",
       "1  1979-02-18T00:00:00Z     3.6  140 University Town Center Dr     Sarasota   \n",
       "2  2015-09-20T00:00:00Z     4.8              3393 Peachtree Rd      Atlanta   \n",
       "3  1960-02-06T00:00:00Z     4.6             7400 San Pedro Ave  San Antonio   \n",
       "\n",
       "  Address.StateProvince Address.PostalCode Address.Country  \n",
       "0                    NY              10022             USA  \n",
       "1                    FL              34243             USA  \n",
       "2                    GA              30326             USA  \n",
       "3                    TX              78216             USA  "
      ]
     },
     "execution_count": 53,
     "metadata": {},
     "output_type": "execute_result"
    }
   ],
   "source": [
    "import pandas as pd\n",
    "\n",
    "document_df = pd.json_normalize(documents)\n",
    "document_df"
   ]
  },
  {
   "attachments": {},
   "cell_type": "markdown",
   "metadata": {},
   "source": [
    "## Upload documents\n",
    "- search_client.upload_documents()"
   ]
  },
  {
   "cell_type": "code",
   "execution_count": 4,
   "metadata": {},
   "outputs": [
    {
     "name": "stdout",
     "output_type": "stream",
     "text": [
      "Upload of new document succeeded: True\n"
     ]
    }
   ],
   "source": [
    "# Upload documents to the index\n",
    "search_client = SearchClient(endpoint=search_endpoint, index_name=index_name, credential=credential)\n",
    "\n",
    "try:\n",
    "    result = search_client.upload_documents(documents=documents)\n",
    "    print(\"Upload of new document succeeded: {}\".format(result[0].succeeded))\n",
    "except Exception as ex:\n",
    "    print (ex.message)\n",
    "    index_client = SearchIndexClient(endpoint=search_endpoint, credential=credential)"
   ]
  },
  {
   "cell_type": "code",
   "execution_count": null,
   "metadata": {},
   "outputs": [],
   "source": [
    "# search_client functions \n",
    "# 'autocomplete', 'close', 'delete_documents', 'get_document', 'get_document_count', \n",
    "# 'index_documents', 'merge_documents', 'merge_or_upload_documents', 'search', \n",
    "# 'send_request', 'suggest', 'upload_documents'"
   ]
  },
  {
   "cell_type": "code",
   "execution_count": 5,
   "metadata": {},
   "outputs": [
    {
     "data": {
      "text/plain": [
       "<SearchClient [endpoint='https://ava-wora-ais-001.search.windows.net', index='hotels-quickstart']>"
      ]
     },
     "execution_count": 5,
     "metadata": {},
     "output_type": "execute_result"
    }
   ],
   "source": [
    "search_client"
   ]
  },
  {
   "cell_type": "code",
   "execution_count": 23,
   "metadata": {},
   "outputs": [
    {
     "data": {
      "text/plain": [
       "4"
      ]
     },
     "execution_count": 23,
     "metadata": {},
     "output_type": "execute_result"
    }
   ],
   "source": [
    "search_client.get_document_count()"
   ]
  },
  {
   "cell_type": "code",
   "execution_count": 18,
   "metadata": {},
   "outputs": [
    {
     "data": {
      "text/plain": [
       "{'document_count': 4, 'storage_size': 39995, 'vector_index_size': 0}"
      ]
     },
     "execution_count": 18,
     "metadata": {},
     "output_type": "execute_result"
    }
   ],
   "source": [
    "index_client.get_index_statistics(index_name=index_name)"
   ]
  },
  {
   "cell_type": "code",
   "execution_count": 36,
   "metadata": {},
   "outputs": [
    {
     "name": "stdout",
     "output_type": "stream",
     "text": [
      "['HotelId', 'HotelName', 'Description', 'Description_fr', 'Category', 'Tags', 'ParkingIncluded', 'LastRenovationDate', 'Rating', 'Address']\n",
      "Name: HotelId, Type: Edm.String, Searchable: False, Filterable: False, Sortable: False, Facetable: False\n",
      "Name: HotelName, Type: Edm.String, Searchable: True, Filterable: False, Sortable: True, Facetable: False\n",
      "Name: Description, Type: Edm.String, Searchable: True, Filterable: False, Sortable: False, Facetable: False\n",
      "Name: Description_fr, Type: Edm.String, Searchable: True, Filterable: False, Sortable: False, Facetable: False\n",
      "Name: Category, Type: Edm.String, Searchable: True, Filterable: True, Sortable: True, Facetable: True\n",
      "Name: Tags, Type: Collection(Edm.String), Searchable: True, Filterable: True, Sortable: False, Facetable: True\n",
      "Name: ParkingIncluded, Type: Edm.Boolean, Searchable: False, Filterable: True, Sortable: True, Facetable: True\n",
      "Name: LastRenovationDate, Type: Edm.DateTimeOffset, Searchable: False, Filterable: True, Sortable: True, Facetable: True\n",
      "Name: Rating, Type: Edm.Double, Searchable: False, Filterable: True, Sortable: True, Facetable: True\n",
      "Name: Address, Type: Edm.ComplexType, Searchable: None, Filterable: None, Sortable: None, Facetable: None\n"
     ]
    }
   ],
   "source": [
    "index = index_client.get_index(index_name)\n",
    "field_names = [field.name for field in index.fields]\n",
    "print(field_names)\n",
    "\n",
    "# Print all fields in the index\n",
    "for field in index.fields:\n",
    "    print(f\"Name: {field.name}, Type: {field.type}, Searchable: {field.searchable}, Filterable: {field.filterable}, Sortable: {field.sortable}, Facetable: {field.facetable}\")"
   ]
  },
  {
   "cell_type": "code",
   "execution_count": 40,
   "metadata": {},
   "outputs": [
    {
     "data": {
      "text/html": [
       "<div>\n",
       "<style scoped>\n",
       "    .dataframe tbody tr th:only-of-type {\n",
       "        vertical-align: middle;\n",
       "    }\n",
       "\n",
       "    .dataframe tbody tr th {\n",
       "        vertical-align: top;\n",
       "    }\n",
       "\n",
       "    .dataframe thead th {\n",
       "        text-align: right;\n",
       "    }\n",
       "</style>\n",
       "<table border=\"1\" class=\"dataframe\">\n",
       "  <thead>\n",
       "    <tr style=\"text-align: right;\">\n",
       "      <th></th>\n",
       "      <th>Name</th>\n",
       "      <th>Type</th>\n",
       "      <th>Searchable</th>\n",
       "      <th>Filterable</th>\n",
       "      <th>Sortable</th>\n",
       "      <th>Facetable</th>\n",
       "    </tr>\n",
       "  </thead>\n",
       "  <tbody>\n",
       "    <tr>\n",
       "      <th>0</th>\n",
       "      <td>HotelId</td>\n",
       "      <td>Edm.String</td>\n",
       "      <td>False</td>\n",
       "      <td>False</td>\n",
       "      <td>False</td>\n",
       "      <td>False</td>\n",
       "    </tr>\n",
       "    <tr>\n",
       "      <th>1</th>\n",
       "      <td>HotelName</td>\n",
       "      <td>Edm.String</td>\n",
       "      <td>True</td>\n",
       "      <td>False</td>\n",
       "      <td>True</td>\n",
       "      <td>False</td>\n",
       "    </tr>\n",
       "    <tr>\n",
       "      <th>2</th>\n",
       "      <td>Description</td>\n",
       "      <td>Edm.String</td>\n",
       "      <td>True</td>\n",
       "      <td>False</td>\n",
       "      <td>False</td>\n",
       "      <td>False</td>\n",
       "    </tr>\n",
       "    <tr>\n",
       "      <th>3</th>\n",
       "      <td>Description_fr</td>\n",
       "      <td>Edm.String</td>\n",
       "      <td>True</td>\n",
       "      <td>False</td>\n",
       "      <td>False</td>\n",
       "      <td>False</td>\n",
       "    </tr>\n",
       "    <tr>\n",
       "      <th>4</th>\n",
       "      <td>Category</td>\n",
       "      <td>Edm.String</td>\n",
       "      <td>True</td>\n",
       "      <td>True</td>\n",
       "      <td>True</td>\n",
       "      <td>True</td>\n",
       "    </tr>\n",
       "    <tr>\n",
       "      <th>5</th>\n",
       "      <td>Tags</td>\n",
       "      <td>Collection(Edm.String)</td>\n",
       "      <td>True</td>\n",
       "      <td>True</td>\n",
       "      <td>False</td>\n",
       "      <td>True</td>\n",
       "    </tr>\n",
       "    <tr>\n",
       "      <th>6</th>\n",
       "      <td>ParkingIncluded</td>\n",
       "      <td>Edm.Boolean</td>\n",
       "      <td>False</td>\n",
       "      <td>True</td>\n",
       "      <td>True</td>\n",
       "      <td>True</td>\n",
       "    </tr>\n",
       "    <tr>\n",
       "      <th>7</th>\n",
       "      <td>LastRenovationDate</td>\n",
       "      <td>Edm.DateTimeOffset</td>\n",
       "      <td>False</td>\n",
       "      <td>True</td>\n",
       "      <td>True</td>\n",
       "      <td>True</td>\n",
       "    </tr>\n",
       "    <tr>\n",
       "      <th>8</th>\n",
       "      <td>Rating</td>\n",
       "      <td>Edm.Double</td>\n",
       "      <td>False</td>\n",
       "      <td>True</td>\n",
       "      <td>True</td>\n",
       "      <td>True</td>\n",
       "    </tr>\n",
       "    <tr>\n",
       "      <th>9</th>\n",
       "      <td>Address</td>\n",
       "      <td>Edm.ComplexType</td>\n",
       "      <td>None</td>\n",
       "      <td>None</td>\n",
       "      <td>None</td>\n",
       "      <td>None</td>\n",
       "    </tr>\n",
       "  </tbody>\n",
       "</table>\n",
       "</div>"
      ],
      "text/plain": [
       "                 Name                    Type Searchable Filterable Sortable  \\\n",
       "0             HotelId              Edm.String      False      False    False   \n",
       "1           HotelName              Edm.String       True      False     True   \n",
       "2         Description              Edm.String       True      False    False   \n",
       "3      Description_fr              Edm.String       True      False    False   \n",
       "4            Category              Edm.String       True       True     True   \n",
       "5                Tags  Collection(Edm.String)       True       True    False   \n",
       "6     ParkingIncluded             Edm.Boolean      False       True     True   \n",
       "7  LastRenovationDate      Edm.DateTimeOffset      False       True     True   \n",
       "8              Rating              Edm.Double      False       True     True   \n",
       "9             Address         Edm.ComplexType       None       None     None   \n",
       "\n",
       "  Facetable  \n",
       "0     False  \n",
       "1     False  \n",
       "2     False  \n",
       "3     False  \n",
       "4      True  \n",
       "5      True  \n",
       "6      True  \n",
       "7      True  \n",
       "8      True  \n",
       "9      None  "
      ]
     },
     "execution_count": 40,
     "metadata": {},
     "output_type": "execute_result"
    }
   ],
   "source": [
    "import pandas as pd\n",
    "# Create a list of dictionaries\n",
    "fields_data = [\n",
    "    {\n",
    "        \"Name\": field.name,\n",
    "        \"Type\": field.type,\n",
    "        \"Searchable\": field.searchable,\n",
    "        \"Filterable\": field.filterable,\n",
    "        \"Sortable\": field.sortable,\n",
    "        \"Facetable\": field.facetable\n",
    "    }\n",
    "    for field in index.fields\n",
    "]\n",
    "\n",
    "# Convert the list of dictionaries to a DataFrame\n",
    "fields_df = pd.DataFrame(fields_data)\n",
    "\n",
    "# Display the DataFrame\n",
    "fields_df"
   ]
  },
  {
   "cell_type": "markdown",
   "metadata": {},
   "source": [
    "- Type:\n",
    "  - Description: Specifies the data type of the field. \n",
    "  - Common types include Edm.String, Edm.Int32, Edm.Double, Edm.Boolean, Edm.DateTimeOffset, Edm.GeographyPoint, and Collection(Edm.String).\n",
    "- Searchable:\n",
    "  - Description: Indicates whether the field can be used in full-text search queries.\n",
    "- Filterable:\n",
    "  - Description: Indicates whether the field can be used to filter results in queries.\n",
    "- Sortable:\n",
    "  - Description: Indicates whether the field can be used to sort results. If a field is sortable, you can use it in the orderby parameter of a query.\n",
    "- Facetable:\n",
    "  - Description: Indicates whether the field can be used to create facets. Facets are counts of documents that match a search query, broken down by a field value."
   ]
  },
  {
   "cell_type": "markdown",
   "metadata": {},
   "source": [
    "### Azure Cognitive Search: `search_client.search()` Parameters\n",
    "\n",
    "- **search_text**: `str` | A full-text search query expression; use \"*\" or omit this parameter to match all documents.\n",
    "- **include_total_count**: `bool` | A value that specifies whether to fetch the total count of results. Default is `false`. Setting this value to `true` may have a performance impact. Note that the count returned is an approximation.\n",
    "- **facets**: `list[str]` | The list of facet expressions to apply to the search query. Each facet expression contains a field name, optionally followed by a comma-separated list of name:value pairs.\n",
    "- **filter**: `str` | The OData `$filter` expression to apply to the search query.\n",
    "- **highlight_fields**: `str` | The comma-separated list of field names to use for hit highlights. Only searchable fields can be used for hit highlighting.\n",
    "- **highlight_post_tag**: `str` | A string tag that is appended to hit highlights. Must be set with `highlightPreTag`. Default is `</em>`.\n",
    "- **highlight_pre_tag**: `str` | A string tag that is prepended to hit highlights. Must be set with `highlightPostTag`. Default is `<em>`.\n",
    "- **minimum_coverage**: `float` | A number between 0 and 100 indicating the percentage of the index that must be covered by a search query in order for the query to be reported as a success. This parameter can be useful for ensuring search availability even for services with only one replica. The default is 100.\n",
    "- **order_by**: `list[str]` | The list of OData `$orderby` expressions by which to sort the results. Each expression can be either a field name or a call to either the `geo.distance()` or the `search.score()` functions. Each expression can be followed by `asc` to indicate ascending, and `desc` to indicate descending. The default is ascending order. Ties will be broken by the match scores of documents. If no `OrderBy` is specified, the default sort order is descending by document match score. There can be at most 32 `$orderby` clauses.\n",
    "- **query_type**: `str` or `~azure.search.documents.models.QueryType` | A value that specifies the syntax of the search query. The default is `simple`. Use `full` if your query uses the Lucene query syntax. Possible values include: `simple`, `full`, `semantic`.\n",
    "- **scoring_parameters**: `list[str]` | The list of parameter values to be used in scoring functions (for example, `referencePointParameter`) using the format name-values. For example, if the scoring profile defines a function with a parameter called `mylocation` the parameter string would be `\"mylocation--122.2,44.8\"` (without the quotes).\n",
    "- **scoring_profile**: `str` | The name of a scoring profile to evaluate match scores for matching documents in order to sort the results.\n",
    "- **semantic_query**: `str` | Allows setting a separate search query that will be solely used for semantic reranking, semantic captions, and semantic answers. Useful for scenarios where there is a need to use different queries between the base retrieval and ranking phase, and the L2 semantic phase.\n",
    "- **search_fields**: `list[str]` | The list of field names to which to scope the full-text search. When using fielded search (`fieldName:searchExpression`) in a full Lucene query, the field names of each fielded search expression take precedence over any field names listed in this parameter.\n",
    "- **search_mode**: `str` or `~azure.search.documents.models.SearchMode` | A value that specifies whether any or all of the search terms must be matched in order to count the document as a match. Possible values include: `any`, `all`.\n",
    "- **query_language**: `str` or `~azure.search.documents.models.QueryLanguage` | The language of the search query. Possible values include: `none`, `en-us`, `en-gb`, `en-in`, `en-ca`, `en-au`, `fr-fr`, `fr-ca`, `de-de`, `es-es`, `es-mx`, `zh-cn`, `zh-tw`, `pt-br`, `pt-pt`, `it-it`, `ja-jp`, `ko-kr`, `ru-ru`, `cs-cz`, `nl-be`, `nl-nl`, `hu-hu`, `pl-pl`, `sv-se`, `tr-tr`, `hi-in`, `ar-sa`, `ar-eg`, `ar-ma`, `ar-kw`, `ar-jo`, `da-dk`, `no-no`, `bg-bg`, `hr-hr`, `hr-ba`, `ms-my`, `ms-bn`, `sl-sl`, `ta-in`, `vi-vn`, `el-gr`, `ro-ro`, `is-is`, `id-id`, `th-th`, `lt-lt`, `uk-ua`, `lv-lv`, `et-ee`, `ca-es`, `fi-fi`, `sr-ba`, `sr-me`, `sr-rs`, `sk-sk`, `nb-no`, `hy-am`, `bn-in`, `eu-es`, `gl-es`, `gu-in`, `he-il`, `ga-ie`, `kn-in`, `ml-in`, `mr-in`, `fa-ae`, `pa-in`, `te-in`, `ur-pk`.\n",
    "- **query_speller**: `str` or `~azure.search.documents.models.QuerySpellerType` | A value that specifies the type of the speller to use to spell-correct individual search query terms. Possible values include: `none`, `lexicon`.\n",
    "- **query_answer**: `str` or `~azure.search.documents.models.QueryAnswerType` | This parameter is only valid if the query type is `semantic`. If set, the query returns answers extracted from key passages in the highest ranked documents. Possible values include: `none`, `extractive`.\n",
    "- **query_answer_count**: `int` | This parameter is only valid if the query type is `semantic` and query answer is `extractive`. Configures the number of answers returned. Default count is 1.\n",
    "- **query_answer_threshold**: `float` | This parameter is only valid if the query type is `semantic` and query answer is `extractive`. Configures the confidence threshold. Default count is 0.7.\n",
    "- **query_caption**: `str` or `~azure.search.documents.models.QueryCaptionType` | This parameter is only valid if the query type is `semantic`. If set, the query returns captions extracted from key passages in the highest ranked documents. Defaults to `None`. Possible values include: `none`, `extractive`.\n",
    "- **query_caption_highlight_enabled**: `bool` | This parameter is only valid if the query type is `semantic` when query caption is set to `extractive`. Determines whether highlighting is enabled. Defaults to `true`.\n",
    "- **semantic_fields**: `list[str]` | The list of field names used for semantic search.\n",
    "- **semantic_configuration_name**: `str` | The name of the semantic configuration that will be used when processing documents for queries of type `semantic`.\n",
    "- **select**: `list[str]` | The list of fields to retrieve. If unspecified, all fields marked as retrievable in the schema are included.\n",
    "- **skip**: `int` | The number of search results to skip. This value cannot be greater than 100,000. If you need to scan documents in sequence but cannot use `$skip` due to this limitation, consider using `$orderby` on a totally-ordered key and `$filter` with a range query instead.\n",
    "- **top**: `int` | The number of search results to retrieve. This can be used in conjunction with `$skip` to implement client-side paging of search results. If results are truncated due to server-side paging, the response will include a continuation token that can be used to issue another `Search` request for the next page of results.\n",
    "- **scoring_statistics**: `str` or `~azure.search.documents.models.ScoringStatistics` | A value that specifies whether we want to calculate scoring statistics (such as document frequency) globally for more consistent scoring, or locally, for lower latency. The default is `local`. Use `global` to aggregate scoring statistics globally before scoring. Using global scoring statistics can increase latency of search queries. Possible values include: `local`, `global`.\n",
    "- **session_id**: `str` | A value to be used to create a sticky session, which can help get more consistent results. As long as the same `sessionId` is used, a best-effort attempt will be made to target the same replica set. Be wary that reusing the same `sessionId` values repeatedly can interfere with the load balancing of the requests across replicas and adversely affect the performance of the search service. The value used as `sessionId` cannot start with a `_` character.\n",
    "- **semantic_error_mode**: `str` or `~azure.search.documents.models.SemanticErrorMode` | Allows the user to choose whether a semantic call should fail completely (default / current behavior), or to return partial results. Known values are: `partial` and `fail`.\n",
    "- **semantic_max_wait_in_milliseconds**: `int` | Allows the user to set an upper bound on the amount of time it takes for semantic enrichment to finish processing before the request fails.\n",
    "- **debug**: `str` or `~azure.search.documents.models.QueryDebugMode` | Enables a debugging tool that can be used to further explore your Semantic search results. Known values are: `disabled`, `speller`, `semantic`, and `all`.\n",
    "- **vector_queries**: `list[VectorQuery]` | The query parameters for vector and hybrid search queries.\n",
    "- **vector_filter_mode**: `str` or `VectorFilterMode` | Determines whether or not filters are applied before or after the vector search is performed. Default is `preFilter`. Known values are: `postFilter` and `preFilter`.\n"
   ]
  },
  {
   "cell_type": "code",
   "execution_count": 28,
   "metadata": {},
   "outputs": [
    {
     "name": "stdout",
     "output_type": "stream",
     "text": [
      "Total Documents Matching Query: 4\n",
      "1.0\n",
      "Triple Landscape Hotel\n",
      "Description: The Hotel stands out for its gastronomic excellence under the management of William Dough, who advises on and oversees all of the Hotel's restaurant services.\n",
      "1.0\n",
      "Twin Dome Motel\n",
      "Description: The hotel is situated in a  nineteenth century plaza, which has been expanded and renovated to the highest architectural standards to create a modern, functional and first-class hotel in which art and unique historical elements coexist with the most modern comforts.\n",
      "1.0\n",
      "Sublime Cliff Hotel\n",
      "Description: Sublime Cliff Hotel is located in the heart of the historic center of Sublime in an extremely vibrant and lively area within short walking distance to the sites and landmarks of the city and is surrounded by the extraordinary beauty of churches, buildings, shops and monuments. Sublime Cliff is part of a lovingly restored 1800 palace.\n",
      "1.0\n",
      "Secret Point Motel\n",
      "Description: The hotel is ideally located on the main commercial artery of the city in the heart of New York. A few minutes away is Time's Square and the historic centre of the city, as well as other places of interest that make New York one of America's most attractive and cosmopolitan cities.\n"
     ]
    }
   ],
   "source": [
    "# Run an empty query (returns selected fields, all documents)\n",
    "results =  search_client.search(\n",
    "    query_type='simple',\n",
    "    search_text=\"*\" ,\n",
    "    select='HotelName,Description',\n",
    "    include_total_count=True\n",
    "    )\n",
    "\n",
    "print ('Total Documents Matching Query:', results.get_count())\n",
    "for result in results:\n",
    "    print(result[\"@search.score\"])\n",
    "    print(result[\"HotelName\"])\n",
    "    print(f\"Description: {result['Description']}\")"
   ]
  },
  {
   "cell_type": "code",
   "execution_count": 68,
   "metadata": {},
   "outputs": [
    {
     "name": "stdout",
     "output_type": "stream",
     "text": [
      "Total Documents Matching Query: 2\n",
      "1.6811352\n",
      "Twin Dome Motel\n",
      "Description: The hotel is situated in a  nineteenth century plaza, which has been expanded and renovated to the highest architectural standards to create a modern, functional and first-class hotel in which art and unique historical elements coexist with the most modern comforts.\n",
      "Category: Boutique\n",
      "Tags: pool, free wifi, concierge\n",
      "Rating: 3.6\n",
      "--------------------------------------------------\n",
      "0.25426257\n",
      "Secret Point Motel\n",
      "Description: The hotel is ideally located on the main commercial artery of the city in the heart of New York. A few minutes away is Time's Square and the historic centre of the city, as well as other places of interest that make New York one of America's most attractive and cosmopolitan cities.\n",
      "Category: Boutique\n",
      "Tags: pool, air conditioning, concierge\n",
      "Rating: 3.6\n",
      "--------------------------------------------------\n"
     ]
    }
   ],
   "source": [
    "## Search with filter and sort\n",
    "\n",
    "# Execute the search query\n",
    "results = search_client.search(\n",
    "    search_text=\"first-class hotel\",\n",
    "    query_type=\"simple\",\n",
    "    search_fields=[\"HotelName\", \"Description\", \"Category\", \"Tags\"],\n",
    "    filter=\"Category eq 'Boutique' and Tags/any(t: t eq 'pool') and Rating gt 3 and ParkingIncluded eq false\",\n",
    "    order_by=[\"Rating desc\"],\n",
    "    facets=[\"Category\", \"Tags\", \"ParkingIncluded\", \"LastRenovationDate\", \"Rating\"],\n",
    "    top=3,\n",
    "    skip=0,\n",
    "    minimum_coverage=10,\n",
    "    scoring_profile=None,\n",
    "    include_total_count=True\n",
    ")\n",
    "\n",
    "# Print the total count of documents matching the query\n",
    "print('Total Documents Matching Query:', results.get_count())\n",
    "\n",
    "# Print the results\n",
    "for result in results:\n",
    "    print(result[\"@search.score\"])\n",
    "    print(result[\"HotelName\"])\n",
    "    print(f\"Description: {result['Description']}\")\n",
    "    print(f\"Category: {result['Category']}\")\n",
    "    print(f\"Tags: {', '.join(result['Tags'])}\")\n",
    "    print(f\"Rating: {result['Rating']}\")\n",
    "    print(\"-\" * 50)"
   ]
  },
  {
   "attachments": {},
   "cell_type": "markdown",
   "metadata": {},
   "source": [
    "## Run a term query"
   ]
  },
  {
   "cell_type": "code",
   "execution_count": 69,
   "metadata": {},
   "outputs": [
    {
     "name": "stdout",
     "output_type": "stream",
     "text": [
      "2.1393623\n",
      "Sublime Cliff Hotel\n",
      "Description: Sublime Cliff Hotel is located in the heart of the historic center of Sublime in an extremely vibrant and lively area within short walking distance to the sites and landmarks of the city and is surrounded by the extraordinary beauty of churches, buildings, shops and monuments. Sublime Cliff is part of a lovingly restored 1800 palace.\n",
      "1.9309065\n",
      "Twin Dome Motel\n",
      "Description: The hotel is situated in a  nineteenth century plaza, which has been expanded and renovated to the highest architectural standards to create a modern, functional and first-class hotel in which art and unique historical elements coexist with the most modern comforts.\n",
      "1.5589908\n",
      "Triple Landscape Hotel\n",
      "Description: The Hotel stands out for its gastronomic excellence under the management of William Dough, who advises on and oversees all of the Hotel's restaurant services.\n",
      "0.7704947\n",
      "Secret Point Motel\n",
      "Description: The hotel is ideally located on the main commercial artery of the city in the heart of New York. A few minutes away is Time's Square and the historic centre of the city, as well as other places of interest that make New York one of America's most attractive and cosmopolitan cities.\n"
     ]
    }
   ],
   "source": [
    "# Run a text query (returns a BM25-scored result set)\n",
    "results =  search_client.search(query_type='simple',\n",
    "    search_text=\"what hotel has a good restaurant on site\" ,\n",
    "    select='HotelName,HotelId,Description',\n",
    "    include_total_count=True)\n",
    "    \n",
    "for result in results:\n",
    "    print(result[\"@search.score\"])\n",
    "    print(result[\"HotelName\"])\n",
    "    print(f\"Description: {result['Description']}\")"
   ]
  },
  {
   "attachments": {},
   "cell_type": "markdown",
   "metadata": {},
   "source": [
    "## Run a semantic query\n",
    "\n",
    "- NEED TO set **Semantic ranker**"
   ]
  },
  {
   "cell_type": "code",
   "execution_count": 71,
   "metadata": {},
   "outputs": [
    {
     "name": "stdout",
     "output_type": "stream",
     "text": [
      "1.8807636499404907\n",
      "Triple Landscape Hotel\n",
      "Description: The Hotel stands out for its gastronomic excellence under the management of William Dough, who advises on and oversees all of the Hotel's restaurant services.\n",
      "Caption: Triple Landscape Hotel. Resort and Spa. The Hotel stands out for its gastronomic excellence under the management of William Dough, who advises on and oversees all of the Hotel's restaurant services..\n",
      "\n",
      "1.527956485748291\n",
      "Sublime Cliff Hotel\n",
      "Description: Sublime Cliff Hotel is located in the heart of the historic center of Sublime in an extremely vibrant and lively area within short walking distance to the sites and landmarks of the city and is surrounded by the extraordinary beauty of churches, buildings, shops and monuments. Sublime Cliff is part of a lovingly restored 1800 palace.\n",
      "Caption: <em>Sublime Cliff Hotel.</em> Boutique.<em> Sublime Cliff Hotel</em> is located in the heart of the historic center of Sublime in an extremely vibrant and lively area within short walking distance to the sites and landmarks of the city and is surrounded by the extraordinary beauty of churches, buildings, shops and monuments.<em> Sublime Cliff</em> is part of a lovingly restored 1800 palace..\n",
      "\n",
      "1.3261334896087646\n",
      "Secret Point Motel\n",
      "Description: The hotel is ideally located on the main commercial artery of the city in the heart of New York. A few minutes away is Time's Square and the historic centre of the city, as well as other places of interest that make New York one of America's most attractive and cosmopolitan cities.\n",
      "Caption: Secret Point Motel. Boutique. The hotel is ideally located on the main commercial artery of the city in the heart of New York. A few minutes away is Time's Square and the historic centre of the city, as well as other places of interest that make New York one of America's most attractive and cosmopolitan cities..\n",
      "\n",
      "1.0473345518112183\n",
      "Twin Dome Motel\n",
      "Description: The hotel is situated in a  nineteenth century plaza, which has been expanded and renovated to the highest architectural standards to create a modern, functional and first-class hotel in which art and unique historical elements coexist with the most modern comforts.\n",
      "Caption: Twin Dome Motel. Boutique. The hotel is situated in a  nineteenth century plaza, which has been expanded and renovated to the highest architectural standards to create a modern, functional and first-class hotel in which art and unique historical elements coexist with the most modern comforts..\n",
      "\n"
     ]
    }
   ],
   "source": [
    "# Runs a semantic query (runs a BM25-ranked query and promotes the most relevant matches to the top)\n",
    "results =  search_client.search(query_type='semantic', semantic_configuration_name='my-semantic-config',\n",
    "    search_text=\"what hotel has a good restaurant on site\", \n",
    "    select='HotelName,Description,Category', query_caption='extractive')\n",
    "\n",
    "for result in results:\n",
    "    print(result[\"@search.reranker_score\"])\n",
    "    print(result[\"HotelName\"])\n",
    "    print(f\"Description: {result['Description']}\")\n",
    "\n",
    "    captions = result[\"@search.captions\"]\n",
    "    if captions:\n",
    "        caption = captions[0]\n",
    "        if caption.highlights:\n",
    "            print(f\"Caption: {caption.highlights}\\n\")\n",
    "        else:\n",
    "            print(f\"Caption: {caption.text}\\n\")"
   ]
  },
  {
   "cell_type": "markdown",
   "metadata": {},
   "source": [
    "## Return semantic answers"
   ]
  },
  {
   "cell_type": "code",
   "execution_count": 72,
   "metadata": {},
   "outputs": [
    {
     "name": "stdout",
     "output_type": "stream",
     "text": [
      "Semantic Answer: <em>Sublime Cliff Hotel.</em> Boutique.<em> Sublime Cliff Hotel</em> is located in the heart of the historic center of Sublime in an extremely vibrant and lively area within short walking distance to the sites and landmarks of the city and is surrounded by the extraordinary beauty of churches, buildings, shops and monuments. Sublime Cliff is part of a lovingly restored 1800 palace..\n",
      "Semantic Answer Score: 0.74072265625\n",
      "\n",
      "2.4754135608673096\n",
      "Twin Dome Motel\n",
      "Description: The hotel is situated in a  nineteenth century plaza, which has been expanded and renovated to the highest architectural standards to create a modern, functional and first-class hotel in which art and unique historical elements coexist with the most modern comforts.\n",
      "Caption: Twin Dome Motel. Boutique. The hotel is situated in a  nineteenth century plaza, which has been expanded and renovated to the highest architectural standards to create a modern, functional and first-class hotel in which art and unique historical elements coexist with the most modern comforts..\n",
      "\n",
      "2.1149470806121826\n",
      "Sublime Cliff Hotel\n",
      "Description: Sublime Cliff Hotel is located in the heart of the historic center of Sublime in an extremely vibrant and lively area within short walking distance to the sites and landmarks of the city and is surrounded by the extraordinary beauty of churches, buildings, shops and monuments. Sublime Cliff is part of a lovingly restored 1800 palace.\n",
      "Caption: <em>Sublime Cliff Hotel.</em> Boutique.<em> Sublime Cliff Hotel</em> is located in the heart of the historic center of Sublime in an extremely vibrant and lively area within short walking distance to the sites and landmarks of the city and is surrounded by the extraordinary beauty of churches, buildings, shops and monuments.<em> Sublime Cliff</em> is part of a lovingly restored 1800 palace..\n",
      "\n",
      "1.8932099342346191\n",
      "Secret Point Motel\n",
      "Description: The hotel is ideally located on the main commercial artery of the city in the heart of New York. A few minutes away is Time's Square and the historic centre of the city, as well as other places of interest that make New York one of America's most attractive and cosmopolitan cities.\n",
      "Caption: Secret Point Motel. Boutique. The hotel is ideally located on the main commercial artery of the city in the heart of New York. A few minutes away is Time's Square and the historic centre of the city, as well as other places of interest that make New York one of America's most attractive and cosmopolitan cities..\n",
      "\n",
      "1.409237027168274\n",
      "Triple Landscape Hotel\n",
      "Description: The Hotel stands out for its gastronomic excellence under the management of William Dough, who advises on and oversees all of the Hotel's restaurant services.\n",
      "Caption: Triple Landscape Hotel. Resort and Spa. The Hotel stands out for its gastronomic excellence under the management of William Dough, who advises on and oversees all of the Hotel's restaurant services..\n",
      "\n"
     ]
    }
   ],
   "source": [
    "# Run a semantic query that returns semantic answers  \n",
    "results =  search_client.search(query_type='semantic', semantic_configuration_name='my-semantic-config',\n",
    " search_text=\"what hotel is in a historic building\",\n",
    " select='HotelName,Description,Category', query_caption='extractive', query_answer=\"extractive\",)\n",
    "\n",
    "semantic_answers = results.get_answers()\n",
    "for answer in semantic_answers:\n",
    "    if answer.highlights:\n",
    "        print(f\"Semantic Answer: {answer.highlights}\")\n",
    "    else:\n",
    "        print(f\"Semantic Answer: {answer.text}\")\n",
    "    print(f\"Semantic Answer Score: {answer.score}\\n\")\n",
    "\n",
    "for result in results:\n",
    "    print(result[\"@search.reranker_score\"])\n",
    "    print(result[\"HotelName\"])\n",
    "    print(f\"Description: {result['Description']}\")\n",
    "\n",
    "    captions = result[\"@search.captions\"]\n",
    "    if captions:\n",
    "        caption = captions[0]\n",
    "        if caption.highlights:\n",
    "            print(f\"Caption: {caption.highlights}\\n\")\n",
    "        else:\n",
    "            print(f\"Caption: {caption.text}\\n\")"
   ]
  },
  {
   "cell_type": "markdown",
   "metadata": {},
   "source": [
    "## Vector Serch"
   ]
  },
  {
   "cell_type": "markdown",
   "metadata": {},
   "source": [
    "https://github.com/Azure/azure-search-vector-samples/blob/main/demo-python/code/basic-vector-workflow/azure-search-vector-python-sample.ipynb"
   ]
  },
  {
   "attachments": {},
   "cell_type": "markdown",
   "metadata": {},
   "source": [
    "## Clean up"
   ]
  },
  {
   "attachments": {},
   "cell_type": "markdown",
   "metadata": {},
   "source": [
    "If you're finished with this index, you can delete it by running the following lines. Deleting unnecessary indexes frees up space for stepping through more quickstarts and tutorials."
   ]
  },
  {
   "cell_type": "code",
   "execution_count": null,
   "metadata": {},
   "outputs": [],
   "source": [
    "# try:\n",
    "#     result = index_client.delete_index(index_name)\n",
    "#     print ('Index', index_name, 'Deleted')\n",
    "# except Exception as ex:\n",
    "#     print (ex)"
   ]
  },
  {
   "attachments": {},
   "cell_type": "markdown",
   "metadata": {},
   "source": [
    "Confirm the index deletion by running the following script that lists all of the indexes on your search service. If hotels-quickstart is not listed, you've successfully deleted the index and have completed this quickstart."
   ]
  },
  {
   "cell_type": "code",
   "execution_count": null,
   "metadata": {},
   "outputs": [],
   "source": [
    "# try:\n",
    "#     result = index_client.get_index(index_name)\n",
    "#     print (result)\n",
    "# except Exception as ex:\n",
    "#     print (ex)\n"
   ]
  }
 ],
 "metadata": {
  "kernelspec": {
   "display_name": "Python 3",
   "language": "python",
   "name": "python3"
  },
  "language_info": {
   "codemirror_mode": {
    "name": "ipython",
    "version": 3
   },
   "file_extension": ".py",
   "mimetype": "text/x-python",
   "name": "python",
   "nbconvert_exporter": "python",
   "pygments_lexer": "ipython3",
   "version": "3.11.8"
  },
  "vscode": {
   "interpreter": {
    "hash": "9ff083f0c83558f9261023d47a77b9b3eb892c62cdbe066d046abcad1a5edb5c"
   }
  }
 },
 "nbformat": 4,
 "nbformat_minor": 2
}
